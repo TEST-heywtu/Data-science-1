{
 "cells": [
  {
   "cell_type": "code",
   "execution_count": 1,
   "metadata": {
    "collapsed": true
   },
   "outputs": [],
   "source": [
    "%matplotlib inline\n",
    "\n",
    "import numpy as np\n",
    "np.random.seed(1337)  # for reproducibility\n",
    "\n",
    "from sklearn import datasets\n",
    "from sklearn import cross_validation"
   ]
  },
  {
   "cell_type": "code",
   "execution_count": 2,
   "metadata": {
    "collapsed": false
   },
   "outputs": [
    {
     "name": "stderr",
     "output_type": "stream",
     "text": [
      "Using Theano backend.\n"
     ]
    }
   ],
   "source": [
    "from keras.models import Sequential\n",
    "from keras.layers.core import Dense, Dropout, Activation, Flatten\n",
    "from keras.layers.convolutional import Convolution2D, MaxPooling2D\n",
    "from keras.utils import np_utils"
   ]
  },
  {
   "cell_type": "code",
   "execution_count": 4,
   "metadata": {
    "collapsed": false
   },
   "outputs": [],
   "source": [
    "# split train - test 90% 10%\n",
    "\n",
    "iris = datasets.load_iris()\n",
    "X = iris.data  \n",
    "Y = iris.target\n",
    "\n",
    "X_train, X_test, y_train, y_test = cross_validation.train_test_split(X, Y, test_size=0.2, random_state=0)\n"
   ]
  },
  {
   "cell_type": "code",
   "execution_count": 6,
   "metadata": {
    "collapsed": true
   },
   "outputs": [],
   "source": [
    "nb_classes = 3\n",
    "\n",
    "batch_size = 1\n",
    "nb_epoch = 25"
   ]
  },
  {
   "cell_type": "code",
   "execution_count": 7,
   "metadata": {
    "collapsed": false
   },
   "outputs": [],
   "source": [
    "# convert class vectors to binary class matrices\n",
    "Y_train = np_utils.to_categorical(y_train, nb_classes)\n",
    "Y_test = np_utils.to_categorical(y_test, nb_classes)"
   ]
  },
  {
   "cell_type": "code",
   "execution_count": 8,
   "metadata": {
    "collapsed": false
   },
   "outputs": [
    {
     "name": "stdout",
     "output_type": "stream",
     "text": [
      "Train on 120 samples, validate on 30 samples\n",
      "Epoch 1/25\n",
      "120/120 [==============================] - 0s - loss: 0.9737 - acc: 0.4667 - val_loss: 0.8412 - val_acc: 0.5667\n",
      "Epoch 2/25\n",
      "120/120 [==============================] - 0s - loss: 0.6951 - acc: 0.6583 - val_loss: 0.5642 - val_acc: 0.5667\n",
      "Epoch 3/25\n",
      "120/120 [==============================] - 0s - loss: 0.4908 - acc: 0.7750 - val_loss: 0.4949 - val_acc: 0.6333\n",
      "Epoch 4/25\n",
      "120/120 [==============================] - 0s - loss: 0.4342 - acc: 0.7500 - val_loss: 0.3032 - val_acc: 0.9667\n",
      "Epoch 5/25\n",
      "120/120 [==============================] - 0s - loss: 0.4927 - acc: 0.7417 - val_loss: 0.4627 - val_acc: 0.6333\n",
      "Epoch 6/25\n",
      "120/120 [==============================] - 0s - loss: 0.4120 - acc: 0.8000 - val_loss: 0.3323 - val_acc: 0.7667\n",
      "Epoch 7/25\n",
      "120/120 [==============================] - 0s - loss: 0.4135 - acc: 0.8000 - val_loss: 0.3636 - val_acc: 0.7333\n",
      "Epoch 8/25\n",
      "120/120 [==============================] - 0s - loss: 0.3702 - acc: 0.8417 - val_loss: 0.2265 - val_acc: 1.0000\n",
      "Epoch 9/25\n",
      "120/120 [==============================] - 0s - loss: 0.3498 - acc: 0.8417 - val_loss: 0.2698 - val_acc: 0.8667\n",
      "Epoch 10/25\n",
      "120/120 [==============================] - 0s - loss: 0.2792 - acc: 0.9083 - val_loss: 0.1561 - val_acc: 0.9667\n",
      "Epoch 11/25\n",
      "120/120 [==============================] - 0s - loss: 0.3173 - acc: 0.8083 - val_loss: 0.3330 - val_acc: 0.7667\n",
      "Epoch 12/25\n",
      "120/120 [==============================] - 0s - loss: 0.3017 - acc: 0.8167 - val_loss: 0.1460 - val_acc: 0.9667\n",
      "Epoch 13/25\n",
      "120/120 [==============================] - 0s - loss: 0.2719 - acc: 0.8917 - val_loss: 0.2316 - val_acc: 0.9000\n",
      "Epoch 14/25\n",
      "120/120 [==============================] - 0s - loss: 0.2562 - acc: 0.8833 - val_loss: 0.1354 - val_acc: 1.0000\n",
      "Epoch 15/25\n",
      "120/120 [==============================] - 0s - loss: 0.2444 - acc: 0.9167 - val_loss: 0.1851 - val_acc: 0.9667\n",
      "Epoch 16/25\n",
      "120/120 [==============================] - 0s - loss: 0.2438 - acc: 0.8917 - val_loss: 0.1702 - val_acc: 0.9667\n",
      "Epoch 17/25\n",
      "120/120 [==============================] - 0s - loss: 0.2204 - acc: 0.9333 - val_loss: 0.1126 - val_acc: 1.0000\n",
      "Epoch 18/25\n",
      "120/120 [==============================] - 0s - loss: 0.2062 - acc: 0.9333 - val_loss: 0.1428 - val_acc: 0.9667\n",
      "Epoch 19/25\n",
      "120/120 [==============================] - 0s - loss: 0.1621 - acc: 0.9583 - val_loss: 0.0781 - val_acc: 0.9667\n",
      "Epoch 20/25\n",
      "120/120 [==============================] - 0s - loss: 0.1992 - acc: 0.9167 - val_loss: 0.0766 - val_acc: 1.0000\n",
      "Epoch 21/25\n",
      "120/120 [==============================] - 0s - loss: 0.2214 - acc: 0.8833 - val_loss: 0.1190 - val_acc: 1.0000\n",
      "Epoch 22/25\n",
      "120/120 [==============================] - 0s - loss: 0.1741 - acc: 0.9417 - val_loss: 0.0724 - val_acc: 1.0000\n",
      "Epoch 23/25\n",
      "120/120 [==============================] - 0s - loss: 0.1742 - acc: 0.9417 - val_loss: 0.1111 - val_acc: 1.0000\n",
      "Epoch 24/25\n",
      "120/120 [==============================] - 0s - loss: 0.2018 - acc: 0.9250 - val_loss: 0.1264 - val_acc: 0.9667\n",
      "Epoch 25/25\n",
      "120/120 [==============================] - 0s - loss: 0.1818 - acc: 0.9083 - val_loss: 0.0606 - val_acc: 1.0000\n",
      "Test score: 0.060615606606\n",
      "Test accuracy: 1.0\n"
     ]
    }
   ],
   "source": [
    "model = Sequential()\n",
    "\n",
    "model.add(Dense(15, input_shape=(4,)))\n",
    "model.add(Activation('relu'))\n",
    "model.add(Dropout(0.1))\n",
    "\n",
    "model.add(Dense(10))\n",
    "model.add(Activation('relu'))\n",
    "model.add(Dropout(0.1))\n",
    "\n",
    "model.add(Dense(nb_classes))\n",
    "model.add(Activation('softmax'))\n",
    "\n",
    "model.compile(loss='categorical_crossentropy', optimizer='adadelta')\n",
    "\n",
    "model.fit(X_train, Y_train, batch_size=batch_size, nb_epoch=nb_epoch,\n",
    "          show_accuracy=True, verbose=1, validation_data=(X_test, Y_test))\n",
    "score = model.evaluate(X_test, Y_test, show_accuracy=True, verbose=0)\n",
    "print('Test score:', score[0])\n",
    "print('Test accuracy:', score[1])"
   ]
  },
  {
   "cell_type": "code",
   "execution_count": 9,
   "metadata": {
    "collapsed": true
   },
   "outputs": [],
   "source": [
    "from sklearn.manifold import TSNE\n",
    "model = TSNE(n_components=2, learning_rate=100, n_iter=50000, n_iter_without_progress=1000, random_state=0)\n",
    "d = model.fit_transform(X_train, Y_train) "
   ]
  },
  {
   "cell_type": "code",
   "execution_count": 10,
   "metadata": {
    "collapsed": false
   },
   "outputs": [
    {
     "data": {
      "image/png": "[encoded data removed]",
      "text/plain": [
       "<matplotlib.figure.Figure at 0x10a93c8d0>"
      ]
     },
     "metadata": {},
     "output_type": "display_data"
    }
   ],
   "source": [
    "import matplotlib.pyplot as plt\n",
    "plt.figure(2, figsize=(8, 6))\n",
    "plt.clf()\n",
    "\n",
    "# Plot the training points\n",
    "plt.scatter(d[:, 0], d[:, 1], c=Y_train, cmap=plt.cm.Paired)\n",
    "plt.show()"
   ]
  },
  {
   "cell_type": "code",
   "execution_count": 11,
   "metadata": {
    "collapsed": true
   },
   "outputs": [],
   "source": [
    "from sklearn import tree"
   ]
  },
  {
   "cell_type": "code",
   "execution_count": 12,
   "metadata": {
    "collapsed": false
   },
   "outputs": [],
   "source": [
    "clf = tree.DecisionTreeClassifier()\n",
    "clf = clf.fit(X_train, Y_train)\n",
    "\n",
    "Y_pred = clf.predict(X_test)"
   ]
  },
  {
   "cell_type": "code",
   "execution_count": 13,
   "metadata": {
    "collapsed": false
   },
   "outputs": [
    {
     "data": {
      "text/plain": [
       "1.0"
      ]
     },
     "execution_count": 13,
     "metadata": {},
     "output_type": "execute_result"
    }
   ],
   "source": [
    "from sklearn import metrics\n",
    "metrics.accuracy_score(Y_test, Y_pred)"
   ]
  },
  {
   "cell_type": "code",
   "execution_count": null,
   "metadata": {
    "collapsed": true
   },
   "outputs": [],
   "source": []
  }
 ],
 "metadata": {
  "kernelspec": {
   "display_name": "Python 3",
   "language": "python",
   "name": "python3"
  },
  "language_info": {
   "codemirror_mode": {
    "name": "ipython",
    "version": 3
   },
   "file_extension": ".py",
   "mimetype": "text/x-python",
   "name": "python",
   "nbconvert_exporter": "python",
   "pygments_lexer": "ipython3",
   "version": "3.5.1"
  }
 },
 "nbformat": 4,
 "nbformat_minor": 0
}
